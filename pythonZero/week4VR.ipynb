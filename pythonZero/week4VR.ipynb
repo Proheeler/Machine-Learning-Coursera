{
 "cells": [
  {
   "cell_type": "markdown",
   "metadata": {},
   "source": [
    "# Центральная предельная теорема"
   ]
  },
  {
   "cell_type": "markdown",
   "metadata": {},
   "source": [
    "## Распределение Рэлея"
   ]
  },
  {
   "cell_type": "markdown",
   "metadata": {},
   "source": [
    "### https://ru.wikipedia.org/wiki/%D0%A0%D0%B0%D1%81%D0%BF%D1%80%D0%B5%D0%B4%D0%B5%D0%BB%D0%B5%D0%BD%D0%B8%D0%B5_%D0%A0%D1%8D%D0%BB%D0%B5%D1%8F"
   ]
  },
  {
   "cell_type": "code",
   "execution_count": 16,
   "metadata": {},
   "outputs": [],
   "source": [
    "#Импортируем нужные библиотеки\n",
    "import math\n",
    "import pandas as pd\n",
    "import numpy as np\n",
    "import matplotlib.pyplot as plt\n",
    "import scipy.stats as sts\n",
    "from scipy.stats import rayleigh\n",
    "%matplotlib inline\n"
   ]
  },
  {
   "cell_type": "code",
   "execution_count": 27,
   "metadata": {},
   "outputs": [
    {
     "data": {
      "image/png": "[encoded data removed]",
      "text/plain": [
       "<matplotlib.figure.Figure at 0xc5848d0>"
      ]
     },
     "metadata": {},
     "output_type": "display_data"
    }
   ],
   "source": [
    "# Строим графики распределения плотности вероятности(Гистограмма + Непрерывная функция)\n",
    "fig, ax = plt.subplots(1, 1)\n",
    "x = np.linspace(rayleigh.ppf(0.01),rayleigh.ppf(0.99), 100)\n",
    "ax.plot(x, rayleigh.pdf(x),'r-', lw=5, alpha=1, label='rayleigh pdf')\n",
    "\n",
    "r = rayleigh.rvs(size=1000)\n",
    "ax.hist(r, normed=True, histtype='stepfilled', alpha=0.6)\n",
    "ax.legend(loc='best', frameon=False)\n",
    "plt.title(\"Reyleigh\")\n",
    "plt.xlabel(\"Value\")\n",
    "plt.ylabel(\"Frequency\")\n",
    "plt.show()"
   ]
  },
  {
   "cell_type": "code",
   "execution_count": 100,
   "metadata": {},
   "outputs": [],
   "source": [
    "sigm=1 #масштабный коэффициент,не сигма из нормального распределения"
   ]
  },
  {
   "cell_type": "code",
   "execution_count": 110,
   "metadata": {},
   "outputs": [
    {
     "name": "stdout",
     "output_type": "stream",
     "text": [
      "1.25331413732\n",
      "1.2533141373155001\n"
     ]
    }
   ],
   "source": [
    "#вычисляем матожидание\n",
    "ME=math.sqrt(math.pi/2)*sigm #через формулу на Вики\n",
    "print ME\n",
    "mean=rayleigh.mean()         #через scicpy\n",
    "print mean"
   ]
  },
  {
   "cell_type": "code",
   "execution_count": 112,
   "metadata": {},
   "outputs": [
    {
     "name": "stdout",
     "output_type": "stream",
     "text": [
      "0.429203673205\n",
      "0.42920367320510344\n"
     ]
    }
   ],
   "source": [
    "#вычисляем дисперсию\n",
    "DE=(2-(math.pi/2))*(sigm**2)   #через формулу на Вики\n",
    "print DE\n",
    "print rayleigh.var() #через scicpy"
   ]
  },
  {
   "cell_type": "code",
   "execution_count": 103,
   "metadata": {},
   "outputs": [
    {
     "name": "stdout",
     "output_type": "stream",
     "text": [
      "7.3016598676059505\n"
     ]
    },
    {
     "data": {
      "text/plain": [
       "1.1084127224169906"
      ]
     },
     "execution_count": 103,
     "metadata": {},
     "output_type": "execute_result"
    }
   ],
   "source": [
    "n=5\n",
    "sample5i = rayleigh.rvs(n)#генерация выборки\n",
    "print sample5i\n",
    "sts.pareto.rvs(n)\n"
   ]
  },
  {
   "cell_type": "code",
   "execution_count": 113,
   "metadata": {},
   "outputs": [
    {
     "ename": "TypeError",
     "evalue": "'numpy.float64' object is not iterable",
     "output_type": "error",
     "traceback": [
      "\u001b[1;31m---------------------------------------------------------------------------\u001b[0m",
      "\u001b[1;31mTypeError\u001b[0m                                 Traceback (most recent call last)",
      "\u001b[1;32m<ipython-input-113-de89e1375e35>\u001b[0m in \u001b[0;36m<module>\u001b[1;34m()\u001b[0m\n\u001b[0;32m      4\u001b[0m \u001b[1;32mwhile\u001b[0m \u001b[0mi\u001b[0m \u001b[1;33m<=\u001b[0m \u001b[1;36m1000\u001b[0m\u001b[1;33m:\u001b[0m\u001b[1;31m#цикл генерации случайных выборок количества n из функции\u001b[0m\u001b[1;33m\u001b[0m\u001b[0m\n\u001b[0;32m      5\u001b[0m     \u001b[0msample5i\u001b[0m \u001b[1;33m=\u001b[0m \u001b[0mrayleigh\u001b[0m\u001b[1;33m.\u001b[0m\u001b[0mrvs\u001b[0m\u001b[1;33m(\u001b[0m\u001b[0mn\u001b[0m\u001b[1;33m)\u001b[0m\u001b[1;31m#генерация выборки\u001b[0m\u001b[1;33m\u001b[0m\u001b[0m\n\u001b[1;32m----> 6\u001b[1;33m     \u001b[0mmean5i\u001b[0m\u001b[1;33m=\u001b[0m\u001b[0msum\u001b[0m\u001b[1;33m(\u001b[0m\u001b[0msample5i\u001b[0m\u001b[1;33m)\u001b[0m\u001b[1;33m/\u001b[0m\u001b[0mn\u001b[0m\u001b[1;31m#определение выборочного среднего (в.с.)\u001b[0m\u001b[1;33m\u001b[0m\u001b[0m\n\u001b[0m\u001b[0;32m      7\u001b[0m     \u001b[0msample5\u001b[0m\u001b[1;33m=\u001b[0m\u001b[0mnp\u001b[0m\u001b[1;33m.\u001b[0m\u001b[0mappend\u001b[0m\u001b[1;33m(\u001b[0m\u001b[0msample5\u001b[0m\u001b[1;33m,\u001b[0m\u001b[0mmean5i\u001b[0m\u001b[1;33m)\u001b[0m\u001b[1;31m#добавляем в массив новое значение в.с.\u001b[0m\u001b[1;33m\u001b[0m\u001b[0m\n\u001b[0;32m      8\u001b[0m     \u001b[0mi\u001b[0m\u001b[1;33m+=\u001b[0m\u001b[1;36m1\u001b[0m\u001b[1;33m\u001b[0m\u001b[0m\n",
      "\u001b[1;31mTypeError\u001b[0m: 'numpy.float64' object is not iterable"
     ]
    }
   ],
   "source": [
    "n=5\n",
    "sample5=np.array([])#обозначим массив выборочных средних\n",
    "i=1\n",
    "while i <= 1000:#цикл генерации случайных выборок количества n из функции\n",
    "    sample5i = rayleigh.rvs(n)#генерация выборки\n",
    "    mean5i=sum(sample5i)/n#определение выборочного среднего (в.с.)\n",
    "    sample5=np.append(sample5,mean5i)#добавляем в массив новое значение в.с.\n",
    "    i+=1\n",
    "#определим параметры нормального распределения описывающие массив 1000 в.с. при n=5\n",
    "E=ME#среднее Парето\n",
    "D=DE#дисперсия Парето\n",
    "D5=D/n#дисперсия для нормального распределения приближающего выборку средних\n",
    "sigma5=math.sqrt(D5)#сигма для нормального распределения выборки средних\n",
    "norm5 = sts.norm(E, sigma5)#определяем нормальное распределение с расчетными характеристиками Парето\n",
    "pdf5 = norm5.pdf(x[:500])#получаем плотность распределения\n",
    "#строим гистограмму массива средних при n=5 и плотность описывающую этот массив нормального распределения\n",
    "plt.plot(x[:500], pdf5, label='PDF(n=5)')\n",
    "plt.hist(sample5, bins =80, range=(1,3), normed=True)\n",
    "plt.ylabel('number of samples')\n",
    "plt.xlabel('$x$')\n",
    "plt.legend(loc='best')"
   ]
  },
  {
   "cell_type": "code",
   "execution_count": 105,
   "metadata": {},
   "outputs": [
    {
     "data": {
      "text/plain": [
       "<matplotlib.legend.Legend at 0x12392ac8>"
      ]
     },
     "execution_count": 105,
     "metadata": {},
     "output_type": "execute_result"
    },
    {
     "data": {
      "image/png": "[encoded data removed]",
      "text/plain": [
       "<matplotlib.figure.Figure at 0x118b52e8>"
      ]
     },
     "metadata": {},
     "output_type": "display_data"
    }
   ],
   "source": [
    "n=10\n",
    "sample5=np.array([])#обозначим массив выборочных средних\n",
    "i=1\n",
    "while i <= 1000:#цикл генерации случайных выборок количества n из функции\n",
    "    sample5i = rayleigh.rvs(n)#генерация выборки\n",
    "    mean5i=sample5i/n#определение выборочного среднего (в.с.)\n",
    "    sample5=np.append(sample5,mean5i)#добавляем в массив новое значение в.с.\n",
    "    i+=1\n",
    "#определим параметры нормального распределения описывающие массив 1000 в.с. при n=5\n",
    "E=ME#среднее Парето\n",
    "D=DE#дисперсия Парето\n",
    "D5=D/n#дисперсия для нормального распределения приближающего выборку средних\n",
    "sigma5=math.sqrt(D5)#сигма для нормального распределения выборки средних\n",
    "norm5 = sts.norm(E, sigma5)#определяем нормальное распределение с расчетными характеристиками Парето\n",
    "pdf5 = norm5.pdf(x[:500])#получаем плотность распределения\n",
    "#строим гистограмму массива средних при n=5 и плотность описывающую этот массив нормального распределения\n",
    "plt.plot(x[:500], pdf5, label='PDF(n=5)')\n",
    "plt.hist(sample5, bins =80, range=(1,3), normed=True)\n",
    "plt.ylabel('number of samples')\n",
    "plt.xlabel('$x$')\n",
    "plt.legend(loc='best')"
   ]
  },
  {
   "cell_type": "code",
   "execution_count": 106,
   "metadata": {},
   "outputs": [
    {
     "data": {
      "text/plain": [
       "<matplotlib.legend.Legend at 0x1270ab70>"
      ]
     },
     "execution_count": 106,
     "metadata": {},
     "output_type": "execute_result"
    },
    {
     "data": {
      "image/png": "[encoded data removed]",
      "text/plain": [
       "<matplotlib.figure.Figure at 0x124b2438>"
      ]
     },
     "metadata": {},
     "output_type": "display_data"
    }
   ],
   "source": [
    "n=50\n",
    "sample5=np.array([])#обозначим массив выборочных средних\n",
    "i=1\n",
    "while i <= 1000:#цикл генерации случайных выборок количества n из функции\n",
    "    sample5i = rayleigh.rvs(n)#генерация выборки\n",
    "    mean5i=sample5i/n#определение выборочного среднего (в.с.)\n",
    "    sample5=np.append(sample5,mean5i)#добавляем в массив новое значение в.с.\n",
    "    i+=1\n",
    "#определим параметры нормального распределения описывающие массив 1000 в.с. при n=5\n",
    "E=ME#среднее Парето\n",
    "D=DE#дисперсия Парето\n",
    "D5=D/n#дисперсия для нормального распределения приближающего выборку средних\n",
    "sigma5=math.sqrt(D5)#сигма для нормального распределения выборки средних\n",
    "norm5 = sts.norm(E, sigma5)#определяем нормальное распределение с расчетными характеристиками Парето\n",
    "pdf5 = norm5.pdf(x[:500])#получаем плотность распределения\n",
    "#строим гистограмму массива средних при n=5 и плотность описывающую этот массив нормального распределения\n",
    "plt.plot(x[:500], pdf5, label='PDF(n=5)')\n",
    "plt.hist(sample5, bins =80, range=(1,3), normed=True)\n",
    "plt.ylabel('number of samples')\n",
    "plt.xlabel('$x$')\n",
    "plt.legend(loc='best')"
   ]
  },
  {
   "cell_type": "code",
   "execution_count": null,
   "metadata": {},
   "outputs": [],
   "source": []
  }
 ],
 "metadata": {
  "kernelspec": {
   "display_name": "Python 2",
   "language": "python",
   "name": "python2"
  },
  "language_info": {
   "codemirror_mode": {
    "name": "ipython",
    "version": 2
   },
   "file_extension": ".py",
   "mimetype": "text/x-python",
   "name": "python",
   "nbconvert_exporter": "python",
   "pygments_lexer": "ipython2",
   "version": "2.7.14"
  }
 },
 "nbformat": 4,
 "nbformat_minor": 2
}
